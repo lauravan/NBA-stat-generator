{
 "cells": [
  {
   "cell_type": "markdown",
   "metadata": {},
   "source": [
    "# Fantasy Auto Player Select"
   ]
  },
  {
   "cell_type": "markdown",
   "metadata": {},
   "source": [
    "This ranks the order in which my fantasy team, the Bubble Suns, should be playing. This is important as, of the 13 members of my team, only 3 can play weekly. "
   ]
  },
  {
   "cell_type": "markdown",
   "metadata": {},
   "source": [
    "# start off simple\n"
   ]
  },
  {
   "cell_type": "markdown",
   "metadata": {},
   "source": [
    "We need to read the rakings of NBA Teams, from NBA.com\n"
   ]
  },
  {
   "cell_type": "code",
   "execution_count": 111,
   "metadata": {},
   "outputs": [],
   "source": [
    "import json\n",
    "import requests\n",
    "import numpy as np\n",
    "from nba_api.stats.static import teams\n",
    "from nba_api.stats.static import players\n",
    "from nba_api.stats.endpoints import commonplayerinfo\n",
    "from nba_api.stats.endpoints import PlayerCompare\n",
    "from nba_api.stats.endpoints import playerdashboardbylastngames"
   ]
  },
  {
   "cell_type": "markdown",
   "metadata": {},
   "source": [
    "Generate a list of players and their 'ids' "
   ]
  },
  {
   "cell_type": "code",
   "execution_count": 167,
   "metadata": {},
   "outputs": [
    {
     "data": {
      "text/plain": [
       "[1628389,\n",
       " 1628384,\n",
       " 201976,\n",
       " 1627763,\n",
       " 1627759,\n",
       " 203924,\n",
       " 202681,\n",
       " 1627749,\n",
       " 1626157,\n",
       " 1626167,\n",
       " 101150,\n",
       " 1627826]"
      ]
     },
     "execution_count": 167,
     "metadata": {},
     "output_type": "execute_result"
    }
   ],
   "source": [
    "#list of all players\n",
    "nba_players = players.get_active_players()\n",
    "\n",
    "#manual input of my player names\n",
    "my_names = ['Kyrie Irving','Malcolm Brogdon','Jaylen Brown','Bam Adebayo','Karl-Anthony Towns','Lou Williams',\n",
    "            'Jerami Grant','Myles Turner','Dejounte Murray','Ivica Zubac','Killian Hayes','OG Anunoby', 'Patrick Beverley']\n",
    "\n",
    "my_team = []\n",
    "my_team_ids = []\n",
    "\n",
    "# goes through all players identifying my team (ids are whats important)\n",
    "for player in nba_players:\n",
    "    for name in range(len(my_names)):\n",
    "        if my_names[name] in player['full_name']:\n",
    "            my_team.append(player)\n",
    "            my_team_ids.append(player['id'])\n",
    "my_team_ids"
   ]
  },
  {
   "cell_type": "code",
   "execution_count": null,
   "metadata": {},
   "outputs": [],
   "source": []
  },
  {
   "cell_type": "code",
   "execution_count": 171,
   "metadata": {},
   "outputs": [
    {
     "ename": "TypeError",
     "evalue": "__init__() got an unexpected keyword argument 'player_id_list'",
     "output_type": "error",
     "traceback": [
      "\u001b[0;31m---------------------------------------------------------------------------\u001b[0m",
      "\u001b[0;31mTypeError\u001b[0m                                 Traceback (most recent call last)",
      "\u001b[0;32m<ipython-input-171-4b13d02c4351>\u001b[0m in \u001b[0;36m<module>\u001b[0;34m\u001b[0m\n\u001b[1;32m      4\u001b[0m \u001b[0;31m# player_info.get_data_frames()\u001b[0m\u001b[0;34m\u001b[0m\u001b[0;34m\u001b[0m\u001b[0;34m\u001b[0m\u001b[0m\n\u001b[1;32m      5\u001b[0m \u001b[0;31m# get_players returns a list of dictionaries, each representing a player.\u001b[0m\u001b[0;34m\u001b[0m\u001b[0;34m\u001b[0m\u001b[0;34m\u001b[0m\u001b[0m\n\u001b[0;32m----> 6\u001b[0;31m \u001b[0mdb\u001b[0m \u001b[0;34m=\u001b[0m \u001b[0mplayerdashboardbylastngames\u001b[0m\u001b[0;34m.\u001b[0m\u001b[0mPlayerDashboardByLastNGames\u001b[0m\u001b[0;34m(\u001b[0m\u001b[0mlast_n_games\u001b[0m \u001b[0;34m=\u001b[0m \u001b[0;36m2\u001b[0m\u001b[0;34m,\u001b[0m \u001b[0mplayer_id_list\u001b[0m\u001b[0;34m=\u001b[0m\u001b[0mmy_team_ids\u001b[0m\u001b[0;34m)\u001b[0m\u001b[0;34m\u001b[0m\u001b[0;34m\u001b[0m\u001b[0m\n\u001b[0m\u001b[1;32m      7\u001b[0m \u001b[0;34m(\u001b[0m\u001b[0mdb\u001b[0m\u001b[0;34m.\u001b[0m\u001b[0mget_data_frames\u001b[0m\u001b[0;34m(\u001b[0m\u001b[0;34m)\u001b[0m\u001b[0;34m[\u001b[0m\u001b[0;36m0\u001b[0m\u001b[0;34m]\u001b[0m\u001b[0;34m)\u001b[0m\u001b[0;34m\u001b[0m\u001b[0;34m\u001b[0m\u001b[0m\n",
      "\u001b[0;31mTypeError\u001b[0m: __init__() got an unexpected keyword argument 'player_id_list'"
     ]
    }
   ],
   "source": [
    "# for _id in my_team_ids:\n",
    "#     db = playerdashboardbylastngames.PlayerDashboardByLastNGames(last_n_games = 2, player_id=_id)\n",
    "#     print(db.get_data_frames())\n",
    "# player_info.get_data_frames()\n",
    "# get_players returns a list of dictionaries, each representing a player.\n",
    "db = playerdashboardbylastngames.PlayerDashboardByLastNGames(last_n_games = 2, player_id_list=my_team_ids)\n",
    "(db.get_data_frames()[0])\n"
   ]
  },
  {
   "cell_type": "code",
   "execution_count": 170,
   "metadata": {},
   "outputs": [
    {
     "ename": "AttributeError",
     "evalue": "type object 'PlayerCompare' has no attribute 'playercompare'",
     "output_type": "error",
     "traceback": [
      "\u001b[0;31m---------------------------------------------------------------------------\u001b[0m",
      "\u001b[0;31mAttributeError\u001b[0m                            Traceback (most recent call last)",
      "\u001b[0;32m<ipython-input-170-e64923c10dc8>\u001b[0m in \u001b[0;36m<module>\u001b[0;34m\u001b[0m\n\u001b[0;32m----> 1\u001b[0;31m \u001b[0mcompare\u001b[0m \u001b[0;34m=\u001b[0m \u001b[0mPlayerCompare\u001b[0m\u001b[0;34m.\u001b[0m\u001b[0mplayercompare\u001b[0m\u001b[0;34m(\u001b[0m\u001b[0mplayer_id\u001b[0m\u001b[0;34m=\u001b[0m\u001b[0;36m2544\u001b[0m\u001b[0;34m)\u001b[0m\u001b[0;34m\u001b[0m\u001b[0;34m\u001b[0m\u001b[0m\n\u001b[0m",
      "\u001b[0;31mAttributeError\u001b[0m: type object 'PlayerCompare' has no attribute 'playercompare'"
     ]
    }
   ],
   "source": [
    "compare = PlayerCompare.playercompare(player_id=2544)"
   ]
  },
  {
   "cell_type": "code",
   "execution_count": null,
   "metadata": {},
   "outputs": [],
   "source": []
  }
 ],
 "metadata": {
  "kernelspec": {
   "display_name": "Python 3",
   "language": "python",
   "name": "python3"
  },
  "language_info": {
   "codemirror_mode": {
    "name": "ipython",
    "version": 3
   },
   "file_extension": ".py",
   "mimetype": "text/x-python",
   "name": "python",
   "nbconvert_exporter": "python",
   "pygments_lexer": "ipython3",
   "version": "3.7.3"
  }
 },
 "nbformat": 4,
 "nbformat_minor": 4
}
